{
 "cells": [
  {
   "cell_type": "code",
   "execution_count": 109,
   "id": "d1052a68-f97d-48d0-92df-5f375c818247",
   "metadata": {},
   "outputs": [],
   "source": [
    "import pandas as pd\n",
    "import numpy as np"
   ]
  },
  {
   "cell_type": "code",
   "execution_count": 110,
   "id": "9830c36b-b2cf-449b-8bbf-10f0d84b95b6",
   "metadata": {},
   "outputs": [
    {
     "data": {
      "text/html": [
       "<div>\n",
       "<style scoped>\n",
       "    .dataframe tbody tr th:only-of-type {\n",
       "        vertical-align: middle;\n",
       "    }\n",
       "\n",
       "    .dataframe tbody tr th {\n",
       "        vertical-align: top;\n",
       "    }\n",
       "\n",
       "    .dataframe thead th {\n",
       "        text-align: right;\n",
       "    }\n",
       "</style>\n",
       "<table border=\"1\" class=\"dataframe\">\n",
       "  <thead>\n",
       "    <tr style=\"text-align: right;\">\n",
       "      <th></th>\n",
       "      <th>location</th>\n",
       "      <th>size</th>\n",
       "      <th>total_sqft</th>\n",
       "      <th>bath</th>\n",
       "      <th>price</th>\n",
       "    </tr>\n",
       "  </thead>\n",
       "  <tbody>\n",
       "    <tr>\n",
       "      <th>8966</th>\n",
       "      <td>Vishveshwarya Layout</td>\n",
       "      <td>6 Bedroom</td>\n",
       "      <td>1400</td>\n",
       "      <td>6.0</td>\n",
       "      <td>160.0</td>\n",
       "    </tr>\n",
       "    <tr>\n",
       "      <th>11879</th>\n",
       "      <td>Begur</td>\n",
       "      <td>3 BHK</td>\n",
       "      <td>1411</td>\n",
       "      <td>2.0</td>\n",
       "      <td>60.0</td>\n",
       "    </tr>\n",
       "    <tr>\n",
       "      <th>6096</th>\n",
       "      <td>Banashankari Stage II</td>\n",
       "      <td>2 Bedroom</td>\n",
       "      <td>500</td>\n",
       "      <td>2.0</td>\n",
       "      <td>55.0</td>\n",
       "    </tr>\n",
       "  </tbody>\n",
       "</table>\n",
       "</div>"
      ],
      "text/plain": [
       "                    location       size total_sqft  bath  price\n",
       "8966    Vishveshwarya Layout  6 Bedroom       1400   6.0  160.0\n",
       "11879                  Begur      3 BHK       1411   2.0   60.0\n",
       "6096   Banashankari Stage II  2 Bedroom        500   2.0   55.0"
      ]
     },
     "execution_count": 110,
     "metadata": {},
     "output_type": "execute_result"
    }
   ],
   "source": [
    "df = pd.read_csv(\"Banglore Housing Prices.csv\")\n",
    "df.sample(3)"
   ]
  },
  {
   "cell_type": "code",
   "execution_count": 111,
   "id": "ecd716ee-3086-4968-b115-6bf42f8e31df",
   "metadata": {},
   "outputs": [
    {
     "data": {
      "text/plain": [
       "(13320, 5)"
      ]
     },
     "execution_count": 111,
     "metadata": {},
     "output_type": "execute_result"
    }
   ],
   "source": [
    "df.shape"
   ]
  },
  {
   "cell_type": "code",
   "execution_count": 112,
   "id": "c691d293-e15c-44bf-b67c-01e4817c3852",
   "metadata": {},
   "outputs": [
    {
     "data": {
      "text/plain": [
       "location       1\n",
       "size          16\n",
       "total_sqft     0\n",
       "bath          73\n",
       "price          0\n",
       "dtype: int64"
      ]
     },
     "execution_count": 112,
     "metadata": {},
     "output_type": "execute_result"
    }
   ],
   "source": [
    "df.isnull().sum()"
   ]
  },
  {
   "cell_type": "code",
   "execution_count": 113,
   "id": "d1fb9e9b-7eda-419c-83db-ee7db649edcf",
   "metadata": {},
   "outputs": [],
   "source": [
    "df['bath'] = df['bath'].fillna(df['bath'].mean())"
   ]
  },
  {
   "cell_type": "code",
   "execution_count": 114,
   "id": "ba534dc5-6bcb-4760-bad2-bf2f6e2b3052",
   "metadata": {},
   "outputs": [],
   "source": [
    "df['size'] = df['size'].fillna('2 BHK')"
   ]
  },
  {
   "cell_type": "code",
   "execution_count": 115,
   "id": "f8a7223c-5b89-48c6-850c-b11fecd65cab",
   "metadata": {},
   "outputs": [],
   "source": [
    "df['location'] = df['location'].fillna('null')"
   ]
  },
  {
   "cell_type": "code",
   "execution_count": 116,
   "id": "8fa8c7f4-2abe-4ca1-ba9a-312c96fb365c",
   "metadata": {},
   "outputs": [
    {
     "data": {
      "text/plain": [
       "location      0\n",
       "size          0\n",
       "total_sqft    0\n",
       "bath          0\n",
       "price         0\n",
       "dtype: int64"
      ]
     },
     "execution_count": 116,
     "metadata": {},
     "output_type": "execute_result"
    }
   ],
   "source": [
    "df.isnull().sum()"
   ]
  },
  {
   "cell_type": "code",
   "execution_count": 117,
   "id": "81922395-4089-468f-a9d0-415600841bbc",
   "metadata": {},
   "outputs": [
    {
     "data": {
      "text/plain": [
       "location\n",
       "Whitefield                        540\n",
       "Sarjapur  Road                    399\n",
       "Electronic City                   302\n",
       "Kanakpura Road                    273\n",
       "Thanisandra                       234\n",
       "                                 ... \n",
       "1st Stage Radha Krishna Layout      1\n",
       "BEML Layout 5th stage               1\n",
       "singapura paradise                  1\n",
       "Uvce Layout                         1\n",
       "Abshot Layout                       1\n",
       "Name: count, Length: 1306, dtype: int64"
      ]
     },
     "execution_count": 117,
     "metadata": {},
     "output_type": "execute_result"
    }
   ],
   "source": [
    "df['location'].value_counts()"
   ]
  },
  {
   "cell_type": "code",
   "execution_count": 118,
   "id": "90f2e4f3-74da-4249-8210-92b38603c649",
   "metadata": {},
   "outputs": [
    {
     "data": {
      "text/plain": [
       "1306"
      ]
     },
     "execution_count": 118,
     "metadata": {},
     "output_type": "execute_result"
    }
   ],
   "source": [
    "df['location'].nunique()"
   ]
  },
  {
   "cell_type": "code",
   "execution_count": 119,
   "id": "f1ca6788-b6f0-47f6-83d0-382073634ffb",
   "metadata": {},
   "outputs": [
    {
     "data": {
      "text/plain": [
       "size\n",
       "2 BHK         5215\n",
       "3 BHK         4310\n",
       "4 Bedroom      826\n",
       "4 BHK          591\n",
       "3 Bedroom      547\n",
       "1 BHK          538\n",
       "2 Bedroom      329\n",
       "5 Bedroom      297\n",
       "6 Bedroom      191\n",
       "1 Bedroom      105\n",
       "8 Bedroom       84\n",
       "7 Bedroom       83\n",
       "5 BHK           59\n",
       "9 Bedroom       46\n",
       "6 BHK           30\n",
       "7 BHK           17\n",
       "1 RK            13\n",
       "10 Bedroom      12\n",
       "9 BHK            8\n",
       "8 BHK            5\n",
       "11 BHK           2\n",
       "11 Bedroom       2\n",
       "10 BHK           2\n",
       "14 BHK           1\n",
       "13 BHK           1\n",
       "12 Bedroom       1\n",
       "27 BHK           1\n",
       "43 Bedroom       1\n",
       "16 BHK           1\n",
       "19 BHK           1\n",
       "18 Bedroom       1\n",
       "Name: count, dtype: int64"
      ]
     },
     "execution_count": 119,
     "metadata": {},
     "output_type": "execute_result"
    }
   ],
   "source": [
    "df['size'].value_counts()"
   ]
  },
  {
   "cell_type": "code",
   "execution_count": 120,
   "id": "42bc2f5e-54f7-4579-a876-1bdcba6af1ab",
   "metadata": {},
   "outputs": [
    {
     "data": {
      "text/plain": [
       "31"
      ]
     },
     "execution_count": 120,
     "metadata": {},
     "output_type": "execute_result"
    }
   ],
   "source": [
    "df['size'].nunique()"
   ]
  },
  {
   "cell_type": "code",
   "execution_count": 121,
   "id": "b98cfd66-629b-4eff-a945-5ede8b2b7d13",
   "metadata": {},
   "outputs": [
    {
     "data": {
      "text/html": [
       "<div>\n",
       "<style scoped>\n",
       "    .dataframe tbody tr th:only-of-type {\n",
       "        vertical-align: middle;\n",
       "    }\n",
       "\n",
       "    .dataframe tbody tr th {\n",
       "        vertical-align: top;\n",
       "    }\n",
       "\n",
       "    .dataframe thead th {\n",
       "        text-align: right;\n",
       "    }\n",
       "</style>\n",
       "<table border=\"1\" class=\"dataframe\">\n",
       "  <thead>\n",
       "    <tr style=\"text-align: right;\">\n",
       "      <th></th>\n",
       "      <th>bath</th>\n",
       "      <th>price</th>\n",
       "    </tr>\n",
       "  </thead>\n",
       "  <tbody>\n",
       "    <tr>\n",
       "      <th>count</th>\n",
       "      <td>13320.000000</td>\n",
       "      <td>13320.000000</td>\n",
       "    </tr>\n",
       "    <tr>\n",
       "      <th>mean</th>\n",
       "      <td>2.692610</td>\n",
       "      <td>112.565627</td>\n",
       "    </tr>\n",
       "    <tr>\n",
       "      <th>std</th>\n",
       "      <td>1.337777</td>\n",
       "      <td>148.971674</td>\n",
       "    </tr>\n",
       "    <tr>\n",
       "      <th>min</th>\n",
       "      <td>1.000000</td>\n",
       "      <td>8.000000</td>\n",
       "    </tr>\n",
       "    <tr>\n",
       "      <th>25%</th>\n",
       "      <td>2.000000</td>\n",
       "      <td>50.000000</td>\n",
       "    </tr>\n",
       "    <tr>\n",
       "      <th>50%</th>\n",
       "      <td>2.000000</td>\n",
       "      <td>72.000000</td>\n",
       "    </tr>\n",
       "    <tr>\n",
       "      <th>75%</th>\n",
       "      <td>3.000000</td>\n",
       "      <td>120.000000</td>\n",
       "    </tr>\n",
       "    <tr>\n",
       "      <th>max</th>\n",
       "      <td>40.000000</td>\n",
       "      <td>3600.000000</td>\n",
       "    </tr>\n",
       "  </tbody>\n",
       "</table>\n",
       "</div>"
      ],
      "text/plain": [
       "               bath         price\n",
       "count  13320.000000  13320.000000\n",
       "mean       2.692610    112.565627\n",
       "std        1.337777    148.971674\n",
       "min        1.000000      8.000000\n",
       "25%        2.000000     50.000000\n",
       "50%        2.000000     72.000000\n",
       "75%        3.000000    120.000000\n",
       "max       40.000000   3600.000000"
      ]
     },
     "execution_count": 121,
     "metadata": {},
     "output_type": "execute_result"
    }
   ],
   "source": [
    "df.describe()"
   ]
  },
  {
   "cell_type": "code",
   "execution_count": 122,
   "id": "5d0755c4-420e-4820-aca1-48c866a31801",
   "metadata": {},
   "outputs": [
    {
     "data": {
      "text/plain": [
       "location       object\n",
       "size           object\n",
       "total_sqft     object\n",
       "bath          float64\n",
       "price         float64\n",
       "dtype: object"
      ]
     },
     "execution_count": 122,
     "metadata": {},
     "output_type": "execute_result"
    }
   ],
   "source": [
    "df.dtypes"
   ]
  },
  {
   "cell_type": "code",
   "execution_count": 123,
   "id": "529d12cf-55c2-420f-972f-02e22c80d65e",
   "metadata": {},
   "outputs": [
    {
     "data": {
      "text/plain": [
       "total_sqft\n",
       "1200    843\n",
       "1100    221\n",
       "1500    205\n",
       "2400    196\n",
       "600     180\n",
       "       ... \n",
       "3580      1\n",
       "2461      1\n",
       "1437      1\n",
       "2155      1\n",
       "4689      1\n",
       "Name: count, Length: 2117, dtype: int64"
      ]
     },
     "execution_count": 123,
     "metadata": {},
     "output_type": "execute_result"
    }
   ],
   "source": [
    "df['total_sqft'].value_counts()"
   ]
  },
  {
   "cell_type": "code",
   "execution_count": 124,
   "id": "e658caf9-78ae-4710-bcb2-200a3e6646a1",
   "metadata": {},
   "outputs": [
    {
     "data": {
      "text/plain": [
       "2117"
      ]
     },
     "execution_count": 124,
     "metadata": {},
     "output_type": "execute_result"
    }
   ],
   "source": [
    "df['total_sqft'].nunique()"
   ]
  },
  {
   "cell_type": "code",
   "execution_count": 125,
   "id": "14f72a37-6277-46a8-afbc-56125f04b87c",
   "metadata": {},
   "outputs": [],
   "source": [
    "df['size'] = df['size'].str.replace('1 Bedroom','1 BHK')\n",
    "df['size'] = df['size'].str.replace('2 Bedroom','2 BHK')\n",
    "df['size'] = df['size'].str.replace('3 Bedroom','3 BHK')\n",
    "df['size'] = df['size'].str.replace('4 Bedroom','4 BHK')\n",
    "df['size'] = df['size'].str.replace('5 Bedroom','5 BHK')\n",
    "df['size'] = df['size'].str.replace('6 Bedroom','6 BHK')\n",
    "df['size'] = df['size'].str.replace('7 Bedroom','7 BHK')\n",
    "df['size'] = df['size'].str.replace('8 Bedroom','8 BHK')\n",
    "df['size'] = df['size'].str.replace('9 Bedroom','9 BHK')\n",
    "df['size'] = df['size'].str.replace('10 Bedroom','10 BHK')\n",
    "df['size'] = df['size'].str.replace('11 Bedroom','11 BHK')\n",
    "df['size'] = df['size'].str.replace('12 Bedroom','12 BHK')\n",
    "df['size'] = df['size'].str.replace('18 Bedroom','18 BHK')\n",
    "df['size'] = df['size'].str.replace('43 Bedroom','43 BHK')"
   ]
  },
  {
   "cell_type": "code",
   "execution_count": 126,
   "id": "633975b6-94a3-4ce6-964e-26974c20fd7e",
   "metadata": {},
   "outputs": [
    {
     "data": {
      "text/plain": [
       "size\n",
       "2 BHK     5544\n",
       "3 BHK     4857\n",
       "4 BHK     1417\n",
       "1 BHK      643\n",
       "5 BHK      356\n",
       "6 BHK      221\n",
       "7 BHK      100\n",
       "8 BHK       89\n",
       "9 BHK       54\n",
       "10 BHK      14\n",
       "1 RK        13\n",
       "11 BHK       4\n",
       "27 BHK       1\n",
       "19 BHK       1\n",
       "16 BHK       1\n",
       "43 BHK       1\n",
       "14 BHK       1\n",
       "12 BHK       1\n",
       "13 BHK       1\n",
       "18 BHK       1\n",
       "Name: count, dtype: int64"
      ]
     },
     "execution_count": 126,
     "metadata": {},
     "output_type": "execute_result"
    }
   ],
   "source": [
    "df['size'].value_counts()"
   ]
  },
  {
   "cell_type": "code",
   "execution_count": 127,
   "id": "fb143622-b6ed-4ab7-a03c-3df80ca1dbc7",
   "metadata": {},
   "outputs": [
    {
     "data": {
      "text/plain": [
       "20"
      ]
     },
     "execution_count": 127,
     "metadata": {},
     "output_type": "execute_result"
    }
   ],
   "source": [
    "df['size'].nunique()"
   ]
  },
  {
   "cell_type": "code",
   "execution_count": 128,
   "id": "9250dfc5-baa5-42e8-8394-1c5e1a48293c",
   "metadata": {},
   "outputs": [
    {
     "data": {
      "text/html": [
       "<div>\n",
       "<style scoped>\n",
       "    .dataframe tbody tr th:only-of-type {\n",
       "        vertical-align: middle;\n",
       "    }\n",
       "\n",
       "    .dataframe tbody tr th {\n",
       "        vertical-align: top;\n",
       "    }\n",
       "\n",
       "    .dataframe thead th {\n",
       "        text-align: right;\n",
       "    }\n",
       "</style>\n",
       "<table border=\"1\" class=\"dataframe\">\n",
       "  <thead>\n",
       "    <tr style=\"text-align: right;\">\n",
       "      <th></th>\n",
       "      <th>location</th>\n",
       "      <th>size</th>\n",
       "      <th>total_sqft</th>\n",
       "      <th>bath</th>\n",
       "      <th>price</th>\n",
       "    </tr>\n",
       "  </thead>\n",
       "  <tbody>\n",
       "    <tr>\n",
       "      <th>915</th>\n",
       "      <td>Mahadevpura</td>\n",
       "      <td>2 BHK</td>\n",
       "      <td>1250</td>\n",
       "      <td>2.0</td>\n",
       "      <td>52.00</td>\n",
       "    </tr>\n",
       "    <tr>\n",
       "      <th>12893</th>\n",
       "      <td>Electronics City Phase 1</td>\n",
       "      <td>1 BHK</td>\n",
       "      <td>755</td>\n",
       "      <td>1.0</td>\n",
       "      <td>30.12</td>\n",
       "    </tr>\n",
       "    <tr>\n",
       "      <th>1151</th>\n",
       "      <td>Dasarahalli</td>\n",
       "      <td>3 BHK</td>\n",
       "      <td>1520</td>\n",
       "      <td>2.0</td>\n",
       "      <td>75.00</td>\n",
       "    </tr>\n",
       "    <tr>\n",
       "      <th>6261</th>\n",
       "      <td>Maithri Layout</td>\n",
       "      <td>3 BHK</td>\n",
       "      <td>1540</td>\n",
       "      <td>3.0</td>\n",
       "      <td>76.00</td>\n",
       "    </tr>\n",
       "  </tbody>\n",
       "</table>\n",
       "</div>"
      ],
      "text/plain": [
       "                       location   size total_sqft  bath  price\n",
       "915                 Mahadevpura  2 BHK       1250   2.0  52.00\n",
       "12893  Electronics City Phase 1  1 BHK        755   1.0  30.12\n",
       "1151                Dasarahalli  3 BHK       1520   2.0  75.00\n",
       "6261             Maithri Layout  3 BHK       1540   3.0  76.00"
      ]
     },
     "execution_count": 128,
     "metadata": {},
     "output_type": "execute_result"
    }
   ],
   "source": [
    "df.sample(4)"
   ]
  },
  {
   "cell_type": "code",
   "execution_count": 129,
   "id": "f62c0402-6071-4329-a001-1c7028fd1f46",
   "metadata": {},
   "outputs": [
    {
     "data": {
      "text/plain": [
       "location       object\n",
       "size           object\n",
       "total_sqft     object\n",
       "bath          float64\n",
       "price         float64\n",
       "dtype: object"
      ]
     },
     "execution_count": 129,
     "metadata": {},
     "output_type": "execute_result"
    }
   ],
   "source": [
    "df.dtypes"
   ]
  },
  {
   "cell_type": "code",
   "execution_count": 130,
   "id": "05d20883-4ac4-4b4a-822c-c10f94634550",
   "metadata": {},
   "outputs": [],
   "source": [
    "df['total_sqft'] = pd.to_numeric(df['total_sqft'], errors='coerce').fillna(1000)"
   ]
  },
  {
   "cell_type": "code",
   "execution_count": 131,
   "id": "a4e58b9e-3ed6-498e-8982-ca7636707c51",
   "metadata": {},
   "outputs": [
    {
     "data": {
      "text/plain": [
       "location       object\n",
       "size           object\n",
       "total_sqft    float64\n",
       "bath          float64\n",
       "price         float64\n",
       "dtype: object"
      ]
     },
     "execution_count": 131,
     "metadata": {},
     "output_type": "execute_result"
    }
   ],
   "source": [
    "df.dtypes"
   ]
  },
  {
   "cell_type": "code",
   "execution_count": 132,
   "id": "9ff36c52-2189-46fb-b26e-49947ace9fcb",
   "metadata": {},
   "outputs": [
    {
     "data": {
      "text/plain": [
       "total_sqft\n",
       "1200.00    843\n",
       "1000.00    419\n",
       "1100.00    221\n",
       "1500.00    205\n",
       "2400.00    196\n",
       "          ... \n",
       "1269.72      1\n",
       "2328.00      1\n",
       "2572.00      1\n",
       "806.00       1\n",
       "4689.00      1\n",
       "Name: count, Length: 1895, dtype: int64"
      ]
     },
     "execution_count": 132,
     "metadata": {},
     "output_type": "execute_result"
    }
   ],
   "source": [
    "df['total_sqft'].value_counts()"
   ]
  },
  {
   "cell_type": "code",
   "execution_count": 133,
   "id": "375a0f1b-06b4-40e5-be85-2ca45400a39d",
   "metadata": {},
   "outputs": [
    {
     "data": {
      "text/html": [
       "<div>\n",
       "<style scoped>\n",
       "    .dataframe tbody tr th:only-of-type {\n",
       "        vertical-align: middle;\n",
       "    }\n",
       "\n",
       "    .dataframe tbody tr th {\n",
       "        vertical-align: top;\n",
       "    }\n",
       "\n",
       "    .dataframe thead th {\n",
       "        text-align: right;\n",
       "    }\n",
       "</style>\n",
       "<table border=\"1\" class=\"dataframe\">\n",
       "  <thead>\n",
       "    <tr style=\"text-align: right;\">\n",
       "      <th></th>\n",
       "      <th>location</th>\n",
       "      <th>size</th>\n",
       "      <th>total_sqft</th>\n",
       "      <th>bath</th>\n",
       "      <th>price</th>\n",
       "    </tr>\n",
       "  </thead>\n",
       "  <tbody>\n",
       "    <tr>\n",
       "      <th>7336</th>\n",
       "      <td>Whitefield</td>\n",
       "      <td>2 BHK</td>\n",
       "      <td>1180.0</td>\n",
       "      <td>2.0</td>\n",
       "      <td>70.0</td>\n",
       "    </tr>\n",
       "    <tr>\n",
       "      <th>11801</th>\n",
       "      <td>Kundalahalli</td>\n",
       "      <td>3 BHK</td>\n",
       "      <td>1500.0</td>\n",
       "      <td>3.0</td>\n",
       "      <td>50.0</td>\n",
       "    </tr>\n",
       "    <tr>\n",
       "      <th>8793</th>\n",
       "      <td>5th Phase JP Nagar</td>\n",
       "      <td>3 BHK</td>\n",
       "      <td>1550.0</td>\n",
       "      <td>3.0</td>\n",
       "      <td>75.0</td>\n",
       "    </tr>\n",
       "    <tr>\n",
       "      <th>8451</th>\n",
       "      <td>Thanisandra</td>\n",
       "      <td>3 BHK</td>\n",
       "      <td>1491.0</td>\n",
       "      <td>3.0</td>\n",
       "      <td>88.0</td>\n",
       "    </tr>\n",
       "    <tr>\n",
       "      <th>12026</th>\n",
       "      <td>Manjunath Nagar</td>\n",
       "      <td>5 BHK</td>\n",
       "      <td>910.0</td>\n",
       "      <td>4.0</td>\n",
       "      <td>194.0</td>\n",
       "    </tr>\n",
       "  </tbody>\n",
       "</table>\n",
       "</div>"
      ],
      "text/plain": [
       "                 location   size  total_sqft  bath  price\n",
       "7336           Whitefield  2 BHK      1180.0   2.0   70.0\n",
       "11801        Kundalahalli  3 BHK      1500.0   3.0   50.0\n",
       "8793   5th Phase JP Nagar  3 BHK      1550.0   3.0   75.0\n",
       "8451          Thanisandra  3 BHK      1491.0   3.0   88.0\n",
       "12026     Manjunath Nagar  5 BHK       910.0   4.0  194.0"
      ]
     },
     "execution_count": 133,
     "metadata": {},
     "output_type": "execute_result"
    }
   ],
   "source": [
    "df.sample(5)"
   ]
  },
  {
   "cell_type": "markdown",
   "id": "cd8d0ca4-9c8f-4955-80f2-9e31d30bc2c0",
   "metadata": {},
   "source": [
    "<h1>The above Data is cleared</h1>"
   ]
  },
  {
   "cell_type": "markdown",
   "id": "a7676d88-cf60-42ac-be93-442d70b603ed",
   "metadata": {},
   "source": [
    "<h1>Apply One Hot Encoding</h1>"
   ]
  },
  {
   "cell_type": "code",
   "execution_count": 134,
   "id": "d6aacf0c-5f17-44eb-92ed-8a479bc48598",
   "metadata": {},
   "outputs": [],
   "source": [
    "counts_size = df['size'].value_counts()"
   ]
  },
  {
   "cell_type": "code",
   "execution_count": 135,
   "id": "f12aa26f-61f8-468a-b24b-4374a11eddb7",
   "metadata": {},
   "outputs": [],
   "source": [
    "uncommon = counts_size[counts_size < 10].index"
   ]
  },
  {
   "cell_type": "code",
   "execution_count": 136,
   "id": "8ce47217-7fd2-4de7-bf3b-f0f78d2a87d9",
   "metadata": {},
   "outputs": [],
   "source": [
    "df['size'] = df['size'].replace(uncommon, 'greater_than_10_BHK')"
   ]
  },
  {
   "cell_type": "code",
   "execution_count": 137,
   "id": "ebb19e40-20e8-4a56-8eaf-7e10b77c8911",
   "metadata": {},
   "outputs": [
    {
     "data": {
      "text/plain": [
       "size\n",
       "2 BHK                  5544\n",
       "3 BHK                  4857\n",
       "4 BHK                  1417\n",
       "1 BHK                   643\n",
       "5 BHK                   356\n",
       "6 BHK                   221\n",
       "7 BHK                   100\n",
       "8 BHK                    89\n",
       "9 BHK                    54\n",
       "10 BHK                   14\n",
       "1 RK                     13\n",
       "greater_than_10_BHK      12\n",
       "Name: count, dtype: int64"
      ]
     },
     "execution_count": 137,
     "metadata": {},
     "output_type": "execute_result"
    }
   ],
   "source": [
    "df['size'].value_counts()"
   ]
  },
  {
   "cell_type": "code",
   "execution_count": 138,
   "id": "98636482-48a3-4a0d-972a-7f1e49e34569",
   "metadata": {},
   "outputs": [],
   "source": [
    "count_size_place = df['location'].value_counts()"
   ]
  },
  {
   "cell_type": "code",
   "execution_count": 139,
   "id": "5593292e-381c-4dba-af9b-12c9aa9ad740",
   "metadata": {},
   "outputs": [
    {
     "data": {
      "text/plain": [
       "location\n",
       "Whitefield                        540\n",
       "Sarjapur  Road                    399\n",
       "Electronic City                   302\n",
       "Kanakpura Road                    273\n",
       "Thanisandra                       234\n",
       "                                 ... \n",
       "1st Stage Radha Krishna Layout      1\n",
       "BEML Layout 5th stage               1\n",
       "singapura paradise                  1\n",
       "Uvce Layout                         1\n",
       "Abshot Layout                       1\n",
       "Name: count, Length: 1306, dtype: int64"
      ]
     },
     "execution_count": 139,
     "metadata": {},
     "output_type": "execute_result"
    }
   ],
   "source": [
    "count_size_place"
   ]
  },
  {
   "cell_type": "code",
   "execution_count": 140,
   "id": "871e01cf-238e-48fc-9cc8-1773cfd7a714",
   "metadata": {},
   "outputs": [],
   "source": [
    "uncommon_location = count_size_place[count_size_place < 150].index"
   ]
  },
  {
   "cell_type": "code",
   "execution_count": 141,
   "id": "5179b9a8-9be9-4187-82c4-8f5fb55a67c0",
   "metadata": {},
   "outputs": [],
   "source": [
    "df['location'] = df['location'].replace(uncommon_location , 'Other_location')"
   ]
  },
  {
   "cell_type": "code",
   "execution_count": 142,
   "id": "aeb81d45-5b6c-4f07-82c3-19f258a2e824",
   "metadata": {},
   "outputs": [
    {
     "data": {
      "text/plain": [
       "location\n",
       "Other_location           10346\n",
       "Whitefield                 540\n",
       "Sarjapur  Road             399\n",
       "Electronic City            302\n",
       "Kanakpura Road             273\n",
       "Thanisandra                234\n",
       "Yelahanka                  213\n",
       "Uttarahalli                186\n",
       "Hebbal                     177\n",
       "Marathahalli               175\n",
       "Raja Rajeshwari Nagar      171\n",
       "Hennur Road                152\n",
       "Bannerghatta Road          152\n",
       "Name: count, dtype: int64"
      ]
     },
     "execution_count": 142,
     "metadata": {},
     "output_type": "execute_result"
    }
   ],
   "source": [
    "df['location'].value_counts()"
   ]
  },
  {
   "cell_type": "code",
   "execution_count": 143,
   "id": "320e8b39-ee43-447e-abb6-199a262b99e1",
   "metadata": {},
   "outputs": [],
   "source": [
    "df= pd.get_dummies(df,columns=['location','size'],drop_first=True,dtype=int)"
   ]
  },
  {
   "cell_type": "code",
   "execution_count": 145,
   "id": "02954c2b-6086-4ef4-8ce1-a3be191f0bc7",
   "metadata": {},
   "outputs": [
    {
     "data": {
      "text/plain": [
       "(13320, 26)"
      ]
     },
     "execution_count": 145,
     "metadata": {},
     "output_type": "execute_result"
    }
   ],
   "source": [
    "df.shape"
   ]
  },
  {
   "cell_type": "markdown",
   "id": "00baedd1-a176-4615-819d-3979d0dd2f81",
   "metadata": {},
   "source": [
    "<h1>Now we have a clean dataset which has all numeric colunms</h1>"
   ]
  },
  {
   "cell_type": "code",
   "execution_count": 146,
   "id": "8a263b54-0c31-47c2-a269-ba2c890a131e",
   "metadata": {},
   "outputs": [
    {
     "data": {
      "text/plain": [
       "total_sqft                        float64\n",
       "bath                              float64\n",
       "price                             float64\n",
       "location_Electronic City            int32\n",
       "location_Hebbal                     int32\n",
       "location_Hennur Road                int32\n",
       "location_Kanakpura Road             int32\n",
       "location_Marathahalli               int32\n",
       "location_Other_location             int32\n",
       "location_Raja Rajeshwari Nagar      int32\n",
       "location_Sarjapur  Road             int32\n",
       "location_Thanisandra                int32\n",
       "location_Uttarahalli                int32\n",
       "location_Whitefield                 int32\n",
       "location_Yelahanka                  int32\n",
       "size_1 RK                           int32\n",
       "size_10 BHK                         int32\n",
       "size_2 BHK                          int32\n",
       "size_3 BHK                          int32\n",
       "size_4 BHK                          int32\n",
       "size_5 BHK                          int32\n",
       "size_6 BHK                          int32\n",
       "size_7 BHK                          int32\n",
       "size_8 BHK                          int32\n",
       "size_9 BHK                          int32\n",
       "size_greater_than_10_BHK            int32\n",
       "dtype: object"
      ]
     },
     "execution_count": 146,
     "metadata": {},
     "output_type": "execute_result"
    }
   ],
   "source": [
    "df.dtypes"
   ]
  },
  {
   "cell_type": "code",
   "execution_count": null,
   "id": "cd053f53-2362-4187-b88f-acad60c2b440",
   "metadata": {},
   "outputs": [],
   "source": []
  },
  {
   "cell_type": "markdown",
   "id": "5f129e12-1689-45e7-ac64-0ec0b6f699c1",
   "metadata": {},
   "source": [
    "<h1>Applying Model</h1>"
   ]
  },
  {
   "cell_type": "code",
   "execution_count": 147,
   "id": "2044fbbb-7add-493f-a944-b6d3e6632c51",
   "metadata": {},
   "outputs": [],
   "source": [
    "from sklearn.model_selection import train_test_split"
   ]
  },
  {
   "cell_type": "code",
   "execution_count": 148,
   "id": "76bf2980-a48e-427e-accb-261d5ebf9287",
   "metadata": {},
   "outputs": [],
   "source": [
    "x_train,x_test,y_train,y_test= train_test_split(df.iloc[:,[0,1,3,4,5,6,7,8,9,10,11,12,13,14,15,16,17,18,19,20,21,22,23,24,25]],df.iloc[:,2],train_size=0.75,random_state=4)"
   ]
  },
  {
   "cell_type": "code",
   "execution_count": 149,
   "id": "381f13d9-a3aa-415c-a9b0-d4f70e0270f0",
   "metadata": {},
   "outputs": [
    {
     "data": {
      "text/html": [
       "<div>\n",
       "<style scoped>\n",
       "    .dataframe tbody tr th:only-of-type {\n",
       "        vertical-align: middle;\n",
       "    }\n",
       "\n",
       "    .dataframe tbody tr th {\n",
       "        vertical-align: top;\n",
       "    }\n",
       "\n",
       "    .dataframe thead th {\n",
       "        text-align: right;\n",
       "    }\n",
       "</style>\n",
       "<table border=\"1\" class=\"dataframe\">\n",
       "  <thead>\n",
       "    <tr style=\"text-align: right;\">\n",
       "      <th></th>\n",
       "      <th>total_sqft</th>\n",
       "      <th>bath</th>\n",
       "      <th>location_Electronic City</th>\n",
       "      <th>location_Hebbal</th>\n",
       "      <th>location_Hennur Road</th>\n",
       "      <th>location_Kanakpura Road</th>\n",
       "      <th>location_Marathahalli</th>\n",
       "      <th>location_Other_location</th>\n",
       "      <th>location_Raja Rajeshwari Nagar</th>\n",
       "      <th>location_Sarjapur  Road</th>\n",
       "      <th>...</th>\n",
       "      <th>size_10 BHK</th>\n",
       "      <th>size_2 BHK</th>\n",
       "      <th>size_3 BHK</th>\n",
       "      <th>size_4 BHK</th>\n",
       "      <th>size_5 BHK</th>\n",
       "      <th>size_6 BHK</th>\n",
       "      <th>size_7 BHK</th>\n",
       "      <th>size_8 BHK</th>\n",
       "      <th>size_9 BHK</th>\n",
       "      <th>size_greater_than_10_BHK</th>\n",
       "    </tr>\n",
       "  </thead>\n",
       "  <tbody>\n",
       "    <tr>\n",
       "      <th>4660</th>\n",
       "      <td>1785.0</td>\n",
       "      <td>3.0</td>\n",
       "      <td>0</td>\n",
       "      <td>0</td>\n",
       "      <td>0</td>\n",
       "      <td>0</td>\n",
       "      <td>0</td>\n",
       "      <td>1</td>\n",
       "      <td>0</td>\n",
       "      <td>0</td>\n",
       "      <td>...</td>\n",
       "      <td>0</td>\n",
       "      <td>0</td>\n",
       "      <td>1</td>\n",
       "      <td>0</td>\n",
       "      <td>0</td>\n",
       "      <td>0</td>\n",
       "      <td>0</td>\n",
       "      <td>0</td>\n",
       "      <td>0</td>\n",
       "      <td>0</td>\n",
       "    </tr>\n",
       "    <tr>\n",
       "      <th>4278</th>\n",
       "      <td>1215.0</td>\n",
       "      <td>2.0</td>\n",
       "      <td>0</td>\n",
       "      <td>0</td>\n",
       "      <td>0</td>\n",
       "      <td>0</td>\n",
       "      <td>0</td>\n",
       "      <td>1</td>\n",
       "      <td>0</td>\n",
       "      <td>0</td>\n",
       "      <td>...</td>\n",
       "      <td>0</td>\n",
       "      <td>1</td>\n",
       "      <td>0</td>\n",
       "      <td>0</td>\n",
       "      <td>0</td>\n",
       "      <td>0</td>\n",
       "      <td>0</td>\n",
       "      <td>0</td>\n",
       "      <td>0</td>\n",
       "      <td>0</td>\n",
       "    </tr>\n",
       "    <tr>\n",
       "      <th>11481</th>\n",
       "      <td>1200.0</td>\n",
       "      <td>1.0</td>\n",
       "      <td>0</td>\n",
       "      <td>0</td>\n",
       "      <td>0</td>\n",
       "      <td>0</td>\n",
       "      <td>0</td>\n",
       "      <td>1</td>\n",
       "      <td>0</td>\n",
       "      <td>0</td>\n",
       "      <td>...</td>\n",
       "      <td>0</td>\n",
       "      <td>0</td>\n",
       "      <td>0</td>\n",
       "      <td>0</td>\n",
       "      <td>0</td>\n",
       "      <td>0</td>\n",
       "      <td>0</td>\n",
       "      <td>0</td>\n",
       "      <td>0</td>\n",
       "      <td>0</td>\n",
       "    </tr>\n",
       "    <tr>\n",
       "      <th>879</th>\n",
       "      <td>1145.0</td>\n",
       "      <td>2.0</td>\n",
       "      <td>0</td>\n",
       "      <td>0</td>\n",
       "      <td>0</td>\n",
       "      <td>0</td>\n",
       "      <td>0</td>\n",
       "      <td>1</td>\n",
       "      <td>0</td>\n",
       "      <td>0</td>\n",
       "      <td>...</td>\n",
       "      <td>0</td>\n",
       "      <td>0</td>\n",
       "      <td>1</td>\n",
       "      <td>0</td>\n",
       "      <td>0</td>\n",
       "      <td>0</td>\n",
       "      <td>0</td>\n",
       "      <td>0</td>\n",
       "      <td>0</td>\n",
       "      <td>0</td>\n",
       "    </tr>\n",
       "    <tr>\n",
       "      <th>2831</th>\n",
       "      <td>1535.0</td>\n",
       "      <td>3.0</td>\n",
       "      <td>0</td>\n",
       "      <td>0</td>\n",
       "      <td>0</td>\n",
       "      <td>0</td>\n",
       "      <td>0</td>\n",
       "      <td>1</td>\n",
       "      <td>0</td>\n",
       "      <td>0</td>\n",
       "      <td>...</td>\n",
       "      <td>0</td>\n",
       "      <td>0</td>\n",
       "      <td>1</td>\n",
       "      <td>0</td>\n",
       "      <td>0</td>\n",
       "      <td>0</td>\n",
       "      <td>0</td>\n",
       "      <td>0</td>\n",
       "      <td>0</td>\n",
       "      <td>0</td>\n",
       "    </tr>\n",
       "    <tr>\n",
       "      <th>...</th>\n",
       "      <td>...</td>\n",
       "      <td>...</td>\n",
       "      <td>...</td>\n",
       "      <td>...</td>\n",
       "      <td>...</td>\n",
       "      <td>...</td>\n",
       "      <td>...</td>\n",
       "      <td>...</td>\n",
       "      <td>...</td>\n",
       "      <td>...</td>\n",
       "      <td>...</td>\n",
       "      <td>...</td>\n",
       "      <td>...</td>\n",
       "      <td>...</td>\n",
       "      <td>...</td>\n",
       "      <td>...</td>\n",
       "      <td>...</td>\n",
       "      <td>...</td>\n",
       "      <td>...</td>\n",
       "      <td>...</td>\n",
       "      <td>...</td>\n",
       "    </tr>\n",
       "    <tr>\n",
       "      <th>6017</th>\n",
       "      <td>1200.0</td>\n",
       "      <td>5.0</td>\n",
       "      <td>0</td>\n",
       "      <td>0</td>\n",
       "      <td>0</td>\n",
       "      <td>0</td>\n",
       "      <td>0</td>\n",
       "      <td>1</td>\n",
       "      <td>0</td>\n",
       "      <td>0</td>\n",
       "      <td>...</td>\n",
       "      <td>0</td>\n",
       "      <td>0</td>\n",
       "      <td>0</td>\n",
       "      <td>0</td>\n",
       "      <td>1</td>\n",
       "      <td>0</td>\n",
       "      <td>0</td>\n",
       "      <td>0</td>\n",
       "      <td>0</td>\n",
       "      <td>0</td>\n",
       "    </tr>\n",
       "    <tr>\n",
       "      <th>709</th>\n",
       "      <td>1045.0</td>\n",
       "      <td>2.0</td>\n",
       "      <td>0</td>\n",
       "      <td>0</td>\n",
       "      <td>0</td>\n",
       "      <td>0</td>\n",
       "      <td>0</td>\n",
       "      <td>1</td>\n",
       "      <td>0</td>\n",
       "      <td>0</td>\n",
       "      <td>...</td>\n",
       "      <td>0</td>\n",
       "      <td>1</td>\n",
       "      <td>0</td>\n",
       "      <td>0</td>\n",
       "      <td>0</td>\n",
       "      <td>0</td>\n",
       "      <td>0</td>\n",
       "      <td>0</td>\n",
       "      <td>0</td>\n",
       "      <td>0</td>\n",
       "    </tr>\n",
       "    <tr>\n",
       "      <th>10679</th>\n",
       "      <td>1555.0</td>\n",
       "      <td>3.0</td>\n",
       "      <td>0</td>\n",
       "      <td>0</td>\n",
       "      <td>0</td>\n",
       "      <td>0</td>\n",
       "      <td>0</td>\n",
       "      <td>1</td>\n",
       "      <td>0</td>\n",
       "      <td>0</td>\n",
       "      <td>...</td>\n",
       "      <td>0</td>\n",
       "      <td>0</td>\n",
       "      <td>1</td>\n",
       "      <td>0</td>\n",
       "      <td>0</td>\n",
       "      <td>0</td>\n",
       "      <td>0</td>\n",
       "      <td>0</td>\n",
       "      <td>0</td>\n",
       "      <td>0</td>\n",
       "    </tr>\n",
       "    <tr>\n",
       "      <th>8366</th>\n",
       "      <td>1553.0</td>\n",
       "      <td>2.0</td>\n",
       "      <td>0</td>\n",
       "      <td>0</td>\n",
       "      <td>0</td>\n",
       "      <td>0</td>\n",
       "      <td>0</td>\n",
       "      <td>1</td>\n",
       "      <td>0</td>\n",
       "      <td>0</td>\n",
       "      <td>...</td>\n",
       "      <td>0</td>\n",
       "      <td>0</td>\n",
       "      <td>1</td>\n",
       "      <td>0</td>\n",
       "      <td>0</td>\n",
       "      <td>0</td>\n",
       "      <td>0</td>\n",
       "      <td>0</td>\n",
       "      <td>0</td>\n",
       "      <td>0</td>\n",
       "    </tr>\n",
       "    <tr>\n",
       "      <th>1146</th>\n",
       "      <td>4000.0</td>\n",
       "      <td>4.0</td>\n",
       "      <td>0</td>\n",
       "      <td>0</td>\n",
       "      <td>0</td>\n",
       "      <td>0</td>\n",
       "      <td>0</td>\n",
       "      <td>1</td>\n",
       "      <td>0</td>\n",
       "      <td>0</td>\n",
       "      <td>...</td>\n",
       "      <td>0</td>\n",
       "      <td>0</td>\n",
       "      <td>0</td>\n",
       "      <td>1</td>\n",
       "      <td>0</td>\n",
       "      <td>0</td>\n",
       "      <td>0</td>\n",
       "      <td>0</td>\n",
       "      <td>0</td>\n",
       "      <td>0</td>\n",
       "    </tr>\n",
       "  </tbody>\n",
       "</table>\n",
       "<p>9990 rows × 25 columns</p>\n",
       "</div>"
      ],
      "text/plain": [
       "       total_sqft  bath  location_Electronic City  location_Hebbal  \\\n",
       "4660       1785.0   3.0                         0                0   \n",
       "4278       1215.0   2.0                         0                0   \n",
       "11481      1200.0   1.0                         0                0   \n",
       "879        1145.0   2.0                         0                0   \n",
       "2831       1535.0   3.0                         0                0   \n",
       "...           ...   ...                       ...              ...   \n",
       "6017       1200.0   5.0                         0                0   \n",
       "709        1045.0   2.0                         0                0   \n",
       "10679      1555.0   3.0                         0                0   \n",
       "8366       1553.0   2.0                         0                0   \n",
       "1146       4000.0   4.0                         0                0   \n",
       "\n",
       "       location_Hennur Road  location_Kanakpura Road  location_Marathahalli  \\\n",
       "4660                      0                        0                      0   \n",
       "4278                      0                        0                      0   \n",
       "11481                     0                        0                      0   \n",
       "879                       0                        0                      0   \n",
       "2831                      0                        0                      0   \n",
       "...                     ...                      ...                    ...   \n",
       "6017                      0                        0                      0   \n",
       "709                       0                        0                      0   \n",
       "10679                     0                        0                      0   \n",
       "8366                      0                        0                      0   \n",
       "1146                      0                        0                      0   \n",
       "\n",
       "       location_Other_location  location_Raja Rajeshwari Nagar  \\\n",
       "4660                         1                               0   \n",
       "4278                         1                               0   \n",
       "11481                        1                               0   \n",
       "879                          1                               0   \n",
       "2831                         1                               0   \n",
       "...                        ...                             ...   \n",
       "6017                         1                               0   \n",
       "709                          1                               0   \n",
       "10679                        1                               0   \n",
       "8366                         1                               0   \n",
       "1146                         1                               0   \n",
       "\n",
       "       location_Sarjapur  Road  ...  size_10 BHK  size_2 BHK  size_3 BHK  \\\n",
       "4660                         0  ...            0           0           1   \n",
       "4278                         0  ...            0           1           0   \n",
       "11481                        0  ...            0           0           0   \n",
       "879                          0  ...            0           0           1   \n",
       "2831                         0  ...            0           0           1   \n",
       "...                        ...  ...          ...         ...         ...   \n",
       "6017                         0  ...            0           0           0   \n",
       "709                          0  ...            0           1           0   \n",
       "10679                        0  ...            0           0           1   \n",
       "8366                         0  ...            0           0           1   \n",
       "1146                         0  ...            0           0           0   \n",
       "\n",
       "       size_4 BHK  size_5 BHK  size_6 BHK  size_7 BHK  size_8 BHK  size_9 BHK  \\\n",
       "4660            0           0           0           0           0           0   \n",
       "4278            0           0           0           0           0           0   \n",
       "11481           0           0           0           0           0           0   \n",
       "879             0           0           0           0           0           0   \n",
       "2831            0           0           0           0           0           0   \n",
       "...           ...         ...         ...         ...         ...         ...   \n",
       "6017            0           1           0           0           0           0   \n",
       "709             0           0           0           0           0           0   \n",
       "10679           0           0           0           0           0           0   \n",
       "8366            0           0           0           0           0           0   \n",
       "1146            1           0           0           0           0           0   \n",
       "\n",
       "       size_greater_than_10_BHK  \n",
       "4660                          0  \n",
       "4278                          0  \n",
       "11481                         0  \n",
       "879                           0  \n",
       "2831                          0  \n",
       "...                         ...  \n",
       "6017                          0  \n",
       "709                           0  \n",
       "10679                         0  \n",
       "8366                          0  \n",
       "1146                          0  \n",
       "\n",
       "[9990 rows x 25 columns]"
      ]
     },
     "execution_count": 149,
     "metadata": {},
     "output_type": "execute_result"
    }
   ],
   "source": [
    "x_train"
   ]
  },
  {
   "cell_type": "code",
   "execution_count": 150,
   "id": "c3772c11-ef7f-49b1-89d3-985e59f39f0d",
   "metadata": {},
   "outputs": [
    {
     "data": {
      "text/plain": [
       "4660     118.00\n",
       "4278      49.85\n",
       "11481     39.82\n",
       "879       60.00\n",
       "2831      55.00\n",
       "          ...  \n",
       "6017     101.00\n",
       "709       45.00\n",
       "10679    125.00\n",
       "8366      58.23\n",
       "1146     675.00\n",
       "Name: price, Length: 9990, dtype: float64"
      ]
     },
     "execution_count": 150,
     "metadata": {},
     "output_type": "execute_result"
    }
   ],
   "source": [
    "y_train"
   ]
  },
  {
   "cell_type": "code",
   "execution_count": 151,
   "id": "3f0ae234-788d-4e79-9f65-a6d53b95e78c",
   "metadata": {},
   "outputs": [],
   "source": [
    "from sklearn.preprocessing import StandardScaler"
   ]
  },
  {
   "cell_type": "code",
   "execution_count": 152,
   "id": "d4886ed2-6601-4545-8496-5e1246a882ea",
   "metadata": {},
   "outputs": [],
   "source": [
    "scaler = StandardScaler()"
   ]
  },
  {
   "cell_type": "code",
   "execution_count": 153,
   "id": "723ea020-38e3-4b17-8796-93c11a8fd666",
   "metadata": {},
   "outputs": [],
   "source": [
    "x_train = scaler.fit_transform(x_train)"
   ]
  },
  {
   "cell_type": "code",
   "execution_count": 154,
   "id": "1d06e87f-939f-4b9a-a22c-8ebc9a73b33a",
   "metadata": {},
   "outputs": [],
   "source": [
    "x_test = scaler.transform(x_test)"
   ]
  },
  {
   "cell_type": "code",
   "execution_count": 155,
   "id": "3f31dfd7-f14c-445f-a342-3f53dd8e818c",
   "metadata": {},
   "outputs": [
    {
     "data": {
      "text/plain": [
       "array([[ 0.22179319,  0.22871255, -0.15588526, ..., -0.08400269,\n",
       "        -0.06651232, -0.03320113],\n",
       "       [-0.2794392 , -0.50906832, -0.15588526, ..., -0.08400269,\n",
       "        -0.06651232, -0.03320113],\n",
       "       [-0.29262952, -1.2468492 , -0.15588526, ..., -0.08400269,\n",
       "        -0.06651232, -0.03320113],\n",
       "       ...,\n",
       "       [ 0.01954153,  0.22871255, -0.15588526, ..., -0.08400269,\n",
       "        -0.06651232, -0.03320113],\n",
       "       [ 0.01778282, -0.50906832, -0.15588526, ..., -0.08400269,\n",
       "        -0.06651232, -0.03320113],\n",
       "       [ 2.16956468,  0.96649342, -0.15588526, ..., -0.08400269,\n",
       "        -0.06651232, -0.03320113]])"
      ]
     },
     "execution_count": 155,
     "metadata": {},
     "output_type": "execute_result"
    }
   ],
   "source": [
    "x_train"
   ]
  },
  {
   "cell_type": "code",
   "execution_count": 156,
   "id": "a722388d-5809-48ec-8d08-c2927cd2979a",
   "metadata": {},
   "outputs": [
    {
     "data": {
      "text/plain": [
       "array([[ 1.81782265,  0.96649342, -0.15588526, ..., -0.08400269,\n",
       "        -0.06651232, -0.03320113],\n",
       "       [-0.3322005 , -0.50906832, -0.15588526, ..., -0.08400269,\n",
       "        -0.06651232, -0.03320113],\n",
       "       [-0.028823  ,  1.70427429, -0.15588526, ..., -0.08400269,\n",
       "        -0.06651232, -0.03320113],\n",
       "       ...,\n",
       "       [-0.29262952,  0.96649342, -0.15588526, ..., -0.08400269,\n",
       "        -0.06651232, -0.03320113],\n",
       "       [ 0.15584156,  0.96649342, -0.15588526, ..., -0.08400269,\n",
       "        -0.06651232, -0.03320113],\n",
       "       [ 1.74307747,  0.22871255, -0.15588526, ..., -0.08400269,\n",
       "        -0.06651232, -0.03320113]])"
      ]
     },
     "execution_count": 156,
     "metadata": {},
     "output_type": "execute_result"
    }
   ],
   "source": [
    "x_test"
   ]
  },
  {
   "cell_type": "code",
   "execution_count": 157,
   "id": "a0df56b0-b635-4a09-91b9-ea8c45be64a4",
   "metadata": {},
   "outputs": [],
   "source": [
    "from sklearn.linear_model import LinearRegression"
   ]
  },
  {
   "cell_type": "code",
   "execution_count": 158,
   "id": "edf9fe7f-ce35-4c29-8bdd-f8cbb2badf08",
   "metadata": {},
   "outputs": [],
   "source": [
    "clf = LinearRegression()"
   ]
  },
  {
   "cell_type": "code",
   "execution_count": 159,
   "id": "e6e9f1b7-932e-4192-b395-4b9bf4d5403b",
   "metadata": {},
   "outputs": [
    {
     "data": {
      "text/plain": [
       "LinearRegression()"
      ]
     },
     "execution_count": 159,
     "metadata": {},
     "output_type": "execute_result"
    }
   ],
   "source": [
    "clf.fit(x_train,y_train)"
   ]
  },
  {
   "cell_type": "code",
   "execution_count": 166,
   "id": "cb21b7d6-a182-4cf5-a605-270695e67611",
   "metadata": {},
   "outputs": [],
   "source": [
    "from sklearn.metrics import mean_absolute_error, mean_squared_error, r2_score"
   ]
  },
  {
   "cell_type": "code",
   "execution_count": 169,
   "id": "f5a8bac9-a8e2-484c-8fdf-eec6753694db",
   "metadata": {},
   "outputs": [],
   "source": [
    "y_pred = clf.predict(x_test)"
   ]
  },
  {
   "cell_type": "code",
   "execution_count": 170,
   "id": "150c1fe4-5bc3-4428-bfa5-27e190d53945",
   "metadata": {},
   "outputs": [],
   "source": [
    "r2 = r2_score(y_test, y_pred)"
   ]
  },
  {
   "cell_type": "code",
   "execution_count": 171,
   "id": "4d2e8d28-976f-43a0-a4d2-2d4f7da984e7",
   "metadata": {},
   "outputs": [
    {
     "name": "stdout",
     "output_type": "stream",
     "text": [
      "R-squared: 0.3896603242608865\n"
     ]
    }
   ],
   "source": [
    "print(\"R-squared:\", r2)"
   ]
  },
  {
   "cell_type": "code",
   "execution_count": null,
   "id": "783d39ec-8800-4f39-becf-b56961b0d4de",
   "metadata": {},
   "outputs": [],
   "source": []
  }
 ],
 "metadata": {
  "kernelspec": {
   "display_name": "Python 3 (ipykernel)",
   "language": "python",
   "name": "python3"
  },
  "language_info": {
   "codemirror_mode": {
    "name": "ipython",
    "version": 3
   },
   "file_extension": ".py",
   "mimetype": "text/x-python",
   "name": "python",
   "nbconvert_exporter": "python",
   "pygments_lexer": "ipython3",
   "version": "3.10.1"
  }
 },
 "nbformat": 4,
 "nbformat_minor": 5
}
