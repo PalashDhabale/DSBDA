{
 "cells": [
  {
   "cell_type": "code",
   "execution_count": 26,
   "id": "6ef79c24-01ac-412f-8c2b-c4df7639c66e",
   "metadata": {},
   "outputs": [],
   "source": [
    "import pandas as pd\n",
    "import numpy as np\n",
    "import statistics\n",
    "import scipy"
   ]
  },
  {
   "cell_type": "code",
   "execution_count": 20,
   "id": "547c9d1a-3e22-4bb8-955e-3aa5ccacd3ef",
   "metadata": {},
   "outputs": [],
   "source": [
    "df = pd.read_csv('Age-Income-Dataset.csv')"
   ]
  },
  {
   "cell_type": "code",
   "execution_count": 22,
   "id": "eaf04c19-e0b9-4d4b-993a-b3edffc41dff",
   "metadata": {},
   "outputs": [
    {
     "data": {
      "text/html": [
       "<div>\n",
       "<style scoped>\n",
       "    .dataframe tbody tr th:only-of-type {\n",
       "        vertical-align: middle;\n",
       "    }\n",
       "\n",
       "    .dataframe tbody tr th {\n",
       "        vertical-align: top;\n",
       "    }\n",
       "\n",
       "    .dataframe thead th {\n",
       "        text-align: right;\n",
       "    }\n",
       "</style>\n",
       "<table border=\"1\" class=\"dataframe\">\n",
       "  <thead>\n",
       "    <tr style=\"text-align: right;\">\n",
       "      <th></th>\n",
       "      <th>Age</th>\n",
       "      <th>Income</th>\n",
       "    </tr>\n",
       "  </thead>\n",
       "  <tbody>\n",
       "    <tr>\n",
       "      <th>4</th>\n",
       "      <td>Young</td>\n",
       "      <td>45000</td>\n",
       "    </tr>\n",
       "    <tr>\n",
       "      <th>40</th>\n",
       "      <td>Middle Age</td>\n",
       "      <td>45700</td>\n",
       "    </tr>\n",
       "    <tr>\n",
       "      <th>33</th>\n",
       "      <td>Middle Age</td>\n",
       "      <td>25600</td>\n",
       "    </tr>\n",
       "    <tr>\n",
       "      <th>47</th>\n",
       "      <td>Old</td>\n",
       "      <td>45300</td>\n",
       "    </tr>\n",
       "  </tbody>\n",
       "</table>\n",
       "</div>"
      ],
      "text/plain": [
       "           Age  Income\n",
       "4        Young   45000\n",
       "40  Middle Age   45700\n",
       "33  Middle Age   25600\n",
       "47         Old   45300"
      ]
     },
     "execution_count": 22,
     "metadata": {},
     "output_type": "execute_result"
    }
   ],
   "source": [
    "df.sample(4)"
   ]
  },
  {
   "cell_type": "code",
   "execution_count": 23,
   "id": "644dab44-cde6-497e-a80e-6dcdbe4492bf",
   "metadata": {},
   "outputs": [
    {
     "data": {
      "text/html": [
       "<div>\n",
       "<style scoped>\n",
       "    .dataframe tbody tr th:only-of-type {\n",
       "        vertical-align: middle;\n",
       "    }\n",
       "\n",
       "    .dataframe tbody tr th {\n",
       "        vertical-align: top;\n",
       "    }\n",
       "\n",
       "    .dataframe thead th {\n",
       "        text-align: right;\n",
       "    }\n",
       "</style>\n",
       "<table border=\"1\" class=\"dataframe\">\n",
       "  <thead>\n",
       "    <tr style=\"text-align: right;\">\n",
       "      <th></th>\n",
       "      <th>Income</th>\n",
       "    </tr>\n",
       "  </thead>\n",
       "  <tbody>\n",
       "    <tr>\n",
       "      <th>count</th>\n",
       "      <td>50.000000</td>\n",
       "    </tr>\n",
       "    <tr>\n",
       "      <th>mean</th>\n",
       "      <td>50966.000000</td>\n",
       "    </tr>\n",
       "    <tr>\n",
       "      <th>std</th>\n",
       "      <td>21096.683268</td>\n",
       "    </tr>\n",
       "    <tr>\n",
       "      <th>min</th>\n",
       "      <td>15000.000000</td>\n",
       "    </tr>\n",
       "    <tr>\n",
       "      <th>25%</th>\n",
       "      <td>33475.000000</td>\n",
       "    </tr>\n",
       "    <tr>\n",
       "      <th>50%</th>\n",
       "      <td>46850.000000</td>\n",
       "    </tr>\n",
       "    <tr>\n",
       "      <th>75%</th>\n",
       "      <td>65400.000000</td>\n",
       "    </tr>\n",
       "    <tr>\n",
       "      <th>max</th>\n",
       "      <td>93000.000000</td>\n",
       "    </tr>\n",
       "  </tbody>\n",
       "</table>\n",
       "</div>"
      ],
      "text/plain": [
       "             Income\n",
       "count     50.000000\n",
       "mean   50966.000000\n",
       "std    21096.683268\n",
       "min    15000.000000\n",
       "25%    33475.000000\n",
       "50%    46850.000000\n",
       "75%    65400.000000\n",
       "max    93000.000000"
      ]
     },
     "execution_count": 23,
     "metadata": {},
     "output_type": "execute_result"
    }
   ],
   "source": [
    "df.describe()"
   ]
  },
  {
   "cell_type": "code",
   "execution_count": 24,
   "id": "01bc386c-09e1-457b-b3e7-34ce95f3ee02",
   "metadata": {},
   "outputs": [
    {
     "data": {
      "text/plain": [
       "Age       object\n",
       "Income     int64\n",
       "dtype: object"
      ]
     },
     "execution_count": 24,
     "metadata": {},
     "output_type": "execute_result"
    }
   ],
   "source": [
    "df.dtypes"
   ]
  },
  {
   "cell_type": "markdown",
   "id": "a1187715-0c40-4b76-a951-212f0936792a",
   "metadata": {},
   "source": [
    "<h1>Mean</h1>"
   ]
  },
  {
   "cell_type": "code",
   "execution_count": 32,
   "id": "b52b84e1-a61a-49e4-9cdb-516bf14ba74c",
   "metadata": {},
   "outputs": [
    {
     "name": "stdout",
     "output_type": "stream",
     "text": [
      "Mean using Pandas :  50966.0\n",
      "Mean using Statistics :  50966\n",
      "Mean using Numpy :  50966.0\n",
      "Mean using Calculations :  50966.0\n"
     ]
    }
   ],
   "source": [
    "print('Mean using Pandas : ',df['Income'].mean())\n",
    "print('Mean using Statistics : ',statistics.mean(df['Income']))\n",
    "print('Mean using Numpy : ',np.mean(df['Income']))\n",
    "mean_income = sum(df['Income'])/len(df['Income'])\n",
    "print('Mean using Calculations : ',mean_income)"
   ]
  },
  {
   "cell_type": "markdown",
   "id": "ef26ecab-be15-428e-bd5b-9598d02be00d",
   "metadata": {},
   "source": [
    "<h1>\n",
    "Median\n",
    "</h1>"
   ]
  },
  {
   "cell_type": "code",
   "execution_count": 36,
   "id": "87e7ea2b-139c-463f-ba2c-b099d15adca5",
   "metadata": {},
   "outputs": [
    {
     "name": "stdout",
     "output_type": "stream",
     "text": [
      "Median Using Pandas :  46850.0\n",
      "Median Using Numpy :  46850.0\n",
      "Median Using Statistics :  46850.0\n"
     ]
    }
   ],
   "source": [
    "print('Median Using Pandas : ',df['Income'].median())\n",
    "print('Median Using Numpy : ',np.median(df['Income']))\n",
    "print('Median Using Statistics : ',statistics.median(df['Income'])"
   ]
  },
  {
   "cell_type": "code",
   "execution_count": 40,
   "id": "f0f1d93e-3852-4d29-aef9-06cce8c1133c",
   "metadata": {},
   "outputs": [
    {
     "name": "stdout",
     "output_type": "stream",
     "text": [
      "Median Using Calculations :\n",
      "46850.0\n"
     ]
    }
   ],
   "source": [
    "print('Median Using Calculations :')\n",
    "length = len(df['Income'])\n",
    "if length % 2 == 1:\n",
    "    median_value = sorted(df['Income']).round(0.5*(length-1))\n",
    "else:\n",
    "    x_ord, index = sorted(df['Income']), round(0.5 * length)\n",
    "    median_value = 0.5 * (x_ord[index-1] + x_ord[index])\n",
    "\n",
    "print(median_value)"
   ]
  },
  {
   "cell_type": "markdown",
   "id": "984ad785-baa7-448a-86f3-08492268fb8d",
   "metadata": {},
   "source": [
    "<h1>Mode</h1>"
   ]
  },
  {
   "cell_type": "code",
   "execution_count": 44,
   "id": "72dd4f41-df32-408a-b5cb-ba840c0a3be0",
   "metadata": {},
   "outputs": [],
   "source": [
    "import scipy.stats"
   ]
  },
  {
   "cell_type": "code",
   "execution_count": 45,
   "id": "216b39f1-7a9f-42fe-86db-6b3804666a89",
   "metadata": {},
   "outputs": [
    {
     "name": "stdout",
     "output_type": "stream",
     "text": [
      "Mode Using Pandas :  0    23000\n",
      "1    25600\n",
      "2    45000\n",
      "3    65400\n",
      "4    80000\n",
      "Name: Income, dtype: int64\n",
      "Mode Using Numpy :  ModeResult(mode=array([23000], dtype=int64), count=array([2]))\n",
      "Mode Using Statistics :  45000\n"
     ]
    }
   ],
   "source": [
    "print('Mode Using Pandas : ',df['Income'].mode())\n",
    "print('Mode Using Numpy : ',scipy.stats.mode(df['Income']))\n",
    "print('Mode Using Statistics : ',statistics.mode(df['Income']))"
   ]
  },
  {
   "cell_type": "markdown",
   "id": "3197ebd0-dc54-4869-a51c-3ced466affda",
   "metadata": {},
   "source": [
    "<h1>Varience</h1>"
   ]
  },
  {
   "cell_type": "code",
   "execution_count": 55,
   "id": "9de8fe52-b581-41ac-b346-20f6a69148e5",
   "metadata": {},
   "outputs": [
    {
     "name": "stdout",
     "output_type": "stream",
     "text": [
      "Varence Using Statistics :  445070044.8979592\n",
      "Varience Using Pandas :  445070044.8979592\n",
      "Varience Using Numpy :  436168644.0\n"
     ]
    }
   ],
   "source": [
    "print('Varence Using Statistics : ',statistics.variance(df['Income']))\n",
    "print('Varience Using Pandas : ',df['Income'].var(ddof=1))\n",
    "print('Varience Using Numpy : ',np.var(df['Income']))"
   ]
  },
  {
   "cell_type": "markdown",
   "id": "f0e3bbca-336f-404d-963d-68f2a7a6c394",
   "metadata": {},
   "source": [
    "<h1>Standard Deviation</h1>"
   ]
  },
  {
   "cell_type": "code",
   "execution_count": 56,
   "id": "7349e627-7004-4a76-bb8c-479fe2ee39ec",
   "metadata": {},
   "outputs": [
    {
     "name": "stdout",
     "output_type": "stream",
     "text": [
      "Standard Deviation Using Statistics :  21096.683267707253\n",
      "Standard Deviation Using Pandas :  21096.683267707253\n",
      "Standard Deviation Using Numpy :  20884.6509187968\n"
     ]
    }
   ],
   "source": [
    "print('Standard Deviation Using Statistics : ',statistics.stdev(df['Income']))\n",
    "print('Standard Deviation Using Pandas : ',df['Income'].std(ddof=1))\n",
    "print('Standard Deviation Using Numpy : ',np.std(df['Income']))"
   ]
  },
  {
   "cell_type": "markdown",
   "id": "dbab5844-69c6-4fa9-9d08-024391ef1836",
   "metadata": {},
   "source": [
    "<h1>Skewness</h1>"
   ]
  },
  {
   "cell_type": "code",
   "execution_count": 59,
   "id": "fe7f5ec0-1225-4e39-b70a-6c216ee414ea",
   "metadata": {},
   "outputs": [
    {
     "name": "stdout",
     "output_type": "stream",
     "text": [
      "Skewness Using Scipy :  0.3778461966031057\n",
      "Skewness using Pandas :  0.38963401146775223\n"
     ]
    }
   ],
   "source": [
    "print('Skewness Using Scipy : ',scipy.stats.skew(df['Income']))\n",
    "print('Skewness using Pandas : ',df['Income'].skew())"
   ]
  },
  {
   "cell_type": "code",
   "execution_count": null,
   "id": "86639214-f321-465f-838d-5b547e9de9ce",
   "metadata": {},
   "outputs": [],
   "source": []
  }
 ],
 "metadata": {
  "kernelspec": {
   "display_name": "Python 3 (ipykernel)",
   "language": "python",
   "name": "python3"
  },
  "language_info": {
   "codemirror_mode": {
    "name": "ipython",
    "version": 3
   },
   "file_extension": ".py",
   "mimetype": "text/x-python",
   "name": "python",
   "nbconvert_exporter": "python",
   "pygments_lexer": "ipython3",
   "version": "3.10.1"
  }
 },
 "nbformat": 4,
 "nbformat_minor": 5
}
